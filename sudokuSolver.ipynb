{
 "cells": [
  {
   "cell_type": "code",
   "execution_count": 10,
   "metadata": {},
   "outputs": [
    {
     "name": "stdout",
     "output_type": "stream",
     "text": [
      "Sudoku Board : \n",
      "\n",
      "3 4 6 8 9 1 5 7 2 \n",
      "2 9 1 7 3 5 6 8 4 \n",
      "5 7 8 2 6 4 3 9 1 \n",
      "8 5 9 4 7 3 1 2 6 \n",
      "4 6 3 9 1 2 8 5 7 \n",
      "7 1 2 6 5 8 4 3 9 \n",
      "1 3 7 5 4 9 2 6 8 \n",
      "9 2 4 3 8 6 7 1 5 \n",
      "6 8 5 1 2 7 9 4 3 \n"
     ]
    }
   ],
   "source": [
    "\"\"\"\n",
    "    Assignment 2 : 9x9 Sudoku using Constraint Satisfaction Problem \n",
    "    Team Members : Sunny(19234757043), Tanmay (19234757044) \n",
    "    \n",
    "\"\"\"\n",
    "\n",
    "\"\"\"\n",
    "    Problem :  Sudoku square of order 3 consists of 3^4 ( 81 ) variables formed into a 3^2( 9 ) × 3^2( 9 ) \n",
    "               grid with values from 1 to 3^2( 9 ) such that the entries in each row, each column and in \n",
    "               each of the 3^2( 9 ) major 3×3 blocks are all different.\n",
    "\"\"\"\n",
    "\n",
    "\n",
    "def safeMove(row, col, val, board):\n",
    "    for i in range(0,9):\n",
    "        if (board[i][col] == val):   #checking in same row\n",
    "            return False\n",
    "        if (board[row][i] == val):   #checking in same column\n",
    "            return False\n",
    "        if (board[3*(row//3) + i//3][3*(col//3) + i%3] == val): #checking in 3 x 3 grid\n",
    "            return False\n",
    "    return True\n",
    "\n",
    "def sudokuSolver(board):\n",
    "    for i in range(0,len(board)):\n",
    "        for j in range(0, len(board[0])):\n",
    "            \n",
    "            if (board[i][j] == 0):              #if this cell is empty \n",
    "                \n",
    "                for val in range(1,10):\n",
    "                    \n",
    "                    if (safeMove(i, j, val, board)):\n",
    "                        board[i][j] = val\n",
    "                        \n",
    "                        if (sudokuSolver(board)):\n",
    "                            return True\n",
    "                        \n",
    "                        board[i][j] = 0        #if solution not found, backtrack\n",
    "                \n",
    "                return False\n",
    "    \n",
    "    return True\n",
    "\n",
    "\n",
    "if __name__ == \"__main__\":\n",
    "    board = [[3 ,0, 0, 8, 0, 1, 0, 0, 2],\n",
    "            [2, 0, 1, 0, 3, 0, 6, 0, 4],\n",
    "            [0, 0, 0, 2, 0, 4, 0, 0, 0],\n",
    "            [8, 0, 9, 0, 0, 0, 1, 0, 6],\n",
    "            [0, 6, 0, 0, 0, 0, 0, 5, 0],\n",
    "            [7, 0, 2, 0, 0, 0, 4, 0, 9],\n",
    "            [0, 0, 0, 5, 0, 9, 0, 0, 0],\n",
    "            [9, 0, 4, 0, 8, 0, 7, 0, 5],\n",
    "            [6, 0, 0, 1, 0, 7, 0, 0, 3]]\n",
    "    \n",
    "    def printBoard():\n",
    "        for i in range(0,9):\n",
    "            for j in range(0,9):\n",
    "                print(board[i][j],end = \" \")\n",
    "            print()\n",
    "    \n",
    "    sudokuSolver(board)\n",
    "    print('Sudoku Board : \\n')\n",
    "    printBoard()\n",
    "    "
   ]
  },
  {
   "cell_type": "code",
   "execution_count": null,
   "metadata": {},
   "outputs": [],
   "source": []
  },
  {
   "cell_type": "code",
   "execution_count": null,
   "metadata": {},
   "outputs": [],
   "source": []
  }
 ],
 "metadata": {
  "kernelspec": {
   "display_name": "Python 3",
   "language": "python",
   "name": "python3"
  },
  "language_info": {
   "codemirror_mode": {
    "name": "ipython",
    "version": 3
   },
   "file_extension": ".py",
   "mimetype": "text/x-python",
   "name": "python",
   "nbconvert_exporter": "python",
   "pygments_lexer": "ipython3",
   "version": "3.7.6"
  }
 },
 "nbformat": 4,
 "nbformat_minor": 4
}
